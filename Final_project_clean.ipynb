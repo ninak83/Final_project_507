{
 "cells": [
  {
   "cell_type": "code",
   "execution_count": 2,
   "metadata": {},
   "outputs": [
    {
     "ename": "ExecuteError",
     "evalue": "ERROR 999999: Something unexpected caused the tool to fail. Please refer to the error help for potential solutions, or contact Esri Technical Support http://esriurl.com/support.\nCreate output feature class failed\nFailed to execute (Project).\n",
     "output_type": "error",
     "traceback": [
      "\u001b[1;31m---------------------------------------------------------------------------\u001b[0m",
      "\u001b[1;31mExecuteError\u001b[0m                              Traceback (most recent call last)",
      "\u001b[1;32m<ipython-input-2-85d7a5cc7390>\u001b[0m in \u001b[0;36m<module>\u001b[1;34m()\u001b[0m\n\u001b[0;32m     15\u001b[0m \u001b[0moutput_feature_class\u001b[0m \u001b[1;33m=\u001b[0m \u001b[1;34m\"Footprints_proj\"\u001b[0m\u001b[1;33m\u001b[0m\u001b[0m\n\u001b[0;32m     16\u001b[0m out_coordinate_system = arcpy.SpatialReference(prjfile)\"\"\"\n\u001b[1;32m---> 17\u001b[1;33m \u001b[0marcpy\u001b[0m\u001b[1;33m.\u001b[0m\u001b[0mProject_management\u001b[0m\u001b[1;33m(\u001b[0m\u001b[1;34m\"footprints_AOI.shp\"\u001b[0m\u001b[1;33m,\u001b[0m \u001b[1;34m\"Footprints_proj\"\u001b[0m\u001b[1;33m,\u001b[0m \u001b[0marcpy\u001b[0m\u001b[1;33m.\u001b[0m\u001b[0mSpatialReference\u001b[0m\u001b[1;33m(\u001b[0m\u001b[0mprjfile\u001b[0m\u001b[1;33m)\u001b[0m\u001b[1;33m)\u001b[0m\u001b[1;33m\u001b[0m\u001b[0m\n\u001b[0m\u001b[0;32m     18\u001b[0m \u001b[1;33m\u001b[0m\u001b[0m\n\u001b[0;32m     19\u001b[0m \u001b[1;33m\u001b[0m\u001b[0m\n",
      "\u001b[1;32mC:\\Program Files\\ArcGIS\\Pro\\Resources\\ArcPy\\arcpy\\management.py\u001b[0m in \u001b[0;36mProject\u001b[1;34m(in_dataset, out_dataset, out_coor_system, transform_method, in_coor_system, preserve_shape, max_deviation, vertical)\u001b[0m\n\u001b[0;32m   9271\u001b[0m         \u001b[1;32mreturn\u001b[0m \u001b[0mretval\u001b[0m\u001b[1;33m\u001b[0m\u001b[0m\n\u001b[0;32m   9272\u001b[0m     \u001b[1;32mexcept\u001b[0m \u001b[0mException\u001b[0m \u001b[1;32mas\u001b[0m \u001b[0me\u001b[0m\u001b[1;33m:\u001b[0m\u001b[1;33m\u001b[0m\u001b[0m\n\u001b[1;32m-> 9273\u001b[1;33m         \u001b[1;32mraise\u001b[0m \u001b[0me\u001b[0m\u001b[1;33m\u001b[0m\u001b[0m\n\u001b[0m\u001b[0;32m   9274\u001b[0m \u001b[1;33m\u001b[0m\u001b[0m\n\u001b[0;32m   9275\u001b[0m \u001b[1;33m\u001b[0m\u001b[0m\n",
      "\u001b[1;32mC:\\Program Files\\ArcGIS\\Pro\\Resources\\ArcPy\\arcpy\\management.py\u001b[0m in \u001b[0;36mProject\u001b[1;34m(in_dataset, out_dataset, out_coor_system, transform_method, in_coor_system, preserve_shape, max_deviation, vertical)\u001b[0m\n\u001b[0;32m   9268\u001b[0m     \u001b[1;32mfrom\u001b[0m \u001b[0marcpy\u001b[0m\u001b[1;33m.\u001b[0m\u001b[0marcobjects\u001b[0m\u001b[1;33m.\u001b[0m\u001b[0marcobjectconversion\u001b[0m \u001b[1;32mimport\u001b[0m \u001b[0mconvertArcObjectToPythonObject\u001b[0m\u001b[1;33m\u001b[0m\u001b[0m\n\u001b[0;32m   9269\u001b[0m     \u001b[1;32mtry\u001b[0m\u001b[1;33m:\u001b[0m\u001b[1;33m\u001b[0m\u001b[0m\n\u001b[1;32m-> 9270\u001b[1;33m         \u001b[0mretval\u001b[0m \u001b[1;33m=\u001b[0m \u001b[0mconvertArcObjectToPythonObject\u001b[0m\u001b[1;33m(\u001b[0m\u001b[0mgp\u001b[0m\u001b[1;33m.\u001b[0m\u001b[0mProject_management\u001b[0m\u001b[1;33m(\u001b[0m\u001b[1;33m*\u001b[0m\u001b[0mgp_fixargs\u001b[0m\u001b[1;33m(\u001b[0m\u001b[1;33m(\u001b[0m\u001b[0min_dataset\u001b[0m\u001b[1;33m,\u001b[0m \u001b[0mout_dataset\u001b[0m\u001b[1;33m,\u001b[0m \u001b[0mout_coor_system\u001b[0m\u001b[1;33m,\u001b[0m \u001b[0mtransform_method\u001b[0m\u001b[1;33m,\u001b[0m \u001b[0min_coor_system\u001b[0m\u001b[1;33m,\u001b[0m \u001b[0mpreserve_shape\u001b[0m\u001b[1;33m,\u001b[0m \u001b[0mmax_deviation\u001b[0m\u001b[1;33m,\u001b[0m \u001b[0mvertical\u001b[0m\u001b[1;33m)\u001b[0m\u001b[1;33m,\u001b[0m \u001b[1;32mTrue\u001b[0m\u001b[1;33m)\u001b[0m\u001b[1;33m)\u001b[0m\u001b[1;33m)\u001b[0m\u001b[1;33m\u001b[0m\u001b[0m\n\u001b[0m\u001b[0;32m   9271\u001b[0m         \u001b[1;32mreturn\u001b[0m \u001b[0mretval\u001b[0m\u001b[1;33m\u001b[0m\u001b[0m\n\u001b[0;32m   9272\u001b[0m     \u001b[1;32mexcept\u001b[0m \u001b[0mException\u001b[0m \u001b[1;32mas\u001b[0m \u001b[0me\u001b[0m\u001b[1;33m:\u001b[0m\u001b[1;33m\u001b[0m\u001b[0m\n",
      "\u001b[1;32mC:\\Program Files\\ArcGIS\\Pro\\Resources\\ArcPy\\arcpy\\geoprocessing\\_base.py\u001b[0m in \u001b[0;36m<lambda>\u001b[1;34m(*args)\u001b[0m\n\u001b[0;32m    494\u001b[0m         \u001b[0mval\u001b[0m \u001b[1;33m=\u001b[0m \u001b[0mgetattr\u001b[0m\u001b[1;33m(\u001b[0m\u001b[0mself\u001b[0m\u001b[1;33m.\u001b[0m\u001b[0m_gp\u001b[0m\u001b[1;33m,\u001b[0m \u001b[0mattr\u001b[0m\u001b[1;33m)\u001b[0m\u001b[1;33m\u001b[0m\u001b[0m\n\u001b[0;32m    495\u001b[0m         \u001b[1;32mif\u001b[0m \u001b[0mcallable\u001b[0m\u001b[1;33m(\u001b[0m\u001b[0mval\u001b[0m\u001b[1;33m)\u001b[0m\u001b[1;33m:\u001b[0m\u001b[1;33m\u001b[0m\u001b[0m\n\u001b[1;32m--> 496\u001b[1;33m             \u001b[1;32mreturn\u001b[0m \u001b[1;32mlambda\u001b[0m \u001b[1;33m*\u001b[0m\u001b[0margs\u001b[0m\u001b[1;33m:\u001b[0m \u001b[0mval\u001b[0m\u001b[1;33m(\u001b[0m\u001b[1;33m*\u001b[0m\u001b[0mgp_fixargs\u001b[0m\u001b[1;33m(\u001b[0m\u001b[0margs\u001b[0m\u001b[1;33m,\u001b[0m \u001b[1;32mTrue\u001b[0m\u001b[1;33m)\u001b[0m\u001b[1;33m)\u001b[0m\u001b[1;33m\u001b[0m\u001b[0m\n\u001b[0m\u001b[0;32m    497\u001b[0m         \u001b[1;32melse\u001b[0m\u001b[1;33m:\u001b[0m\u001b[1;33m\u001b[0m\u001b[0m\n\u001b[0;32m    498\u001b[0m             \u001b[1;32mreturn\u001b[0m \u001b[0mconvertArcObjectToPythonObject\u001b[0m\u001b[1;33m(\u001b[0m\u001b[0mval\u001b[0m\u001b[1;33m)\u001b[0m\u001b[1;33m\u001b[0m\u001b[0m\n",
      "\u001b[1;31mExecuteError\u001b[0m: ERROR 999999: Something unexpected caused the tool to fail. Please refer to the error help for potential solutions, or contact Esri Technical Support http://esriurl.com/support.\nCreate output feature class failed\nFailed to execute (Project).\n"
     ]
    }
   ],
   "source": [
    "import arcpy\n",
    "\n",
    "arcpy.env.overwriteOutput = True\n",
    "arcpy.env.workspace = \"C:/Users/Nina/Desktop/Final_project\"\n",
    "\n",
    "\n",
    "#Reprojecting building footprints into parcel file projection\n",
    "#creating spatial reference from parcel file which is already projected\n",
    "prjfile = \"Parcels_AOI.prj\"\n",
    "spatialref = arcpy.SpatialReference(prjfile)\n",
    "myref = spatialref.name\n",
    "\n",
    "#Process: Project\n",
    "\"\"\"input_features = \"footprints_AOI.shp\"\n",
    "output_feature_class = \"Footprints_proj\"\n",
    "out_coordinate_system = arcpy.SpatialReference(prjfile)\"\"\"\n",
    "arcpy.Project_management(\"footprints_AOI.shp\", \"Footprints_proj\", arcpy.SpatialReference(prjfile))\n",
    "\n",
    "\n",
    "#Process: Intersect\n",
    "inFeatures = [\"Parcels_AOI.shp\", \"Footprints_proj.shp\"]\n",
    "intersectOutput = \"intersect.shp\"\n",
    "arcpy.Intersect_analysis(inFeatures, intersectOutput, \"ALL\", \"\", \"INPUT\")\n",
    "\n",
    "# Process: Add Field\n",
    "arcpy.AddField_management(\"intersect.shp\", \"new_area\", \"LONG\", \"\", \"\", \"\", \"\", \"NULLABLE\", \"NON_REQUIRED\", \"\")\n",
    "\n",
    "# Process: Calculate Field - calculate area of intersected bf and parcels\n",
    "arcpy.CalculateField_management(\"intersect.shp\", \"new_area\", \"!shape.area!\", \"PYTHON\", \"\")\n",
    "\n",
    "# Process: Summary Statistics - find max area for new area field\n",
    "arcpy.Statistics_analysis (\"intersect.shp\", \"summary\", [[\"new_area\", \"MAX\"]], \"BF_ID\")\n",
    "\n",
    "#Process join by BF ID summary table to intersected BF and parcels (to get PID)\n",
    "max_area_joined = arcpy.AddJoin_management (\"intersect.shp\", \"BF_ID\", \"summary\", \"BF_ID\", \"\")\n",
    "\n",
    "#Create new shpfile from join above\n",
    "arcpy.CopyFeatures_management(max_area_joined, \"AreaJoin\")\n",
    "\n",
    "\n",
    "\n",
    "#add field to new shp file\n",
    "arcpy.AddField_management(\"AreaJoin.shp\", \"subtract\", \"LONG\", \"\", \"\", \"\", \"\", \"NULLABLE\", \"NON_REQUIRED\", \"\")\n",
    "\n",
    "#Process: Calculate Field - subtract original area from new area in new field\n",
    "arcpy.CalculateField_management(\"AreaJoin.shp\", \"subtract\", \"!interse_55! - !summary_MA!\", \"PYTHON\", \"\")\n",
    "\n",
    "# Execute Select\n",
    "arcpy.Select_analysis(\"AreaJoin.shp\", \"Final_fp.shp\", '\"subtract\" = 0')\n",
    "\n",
    "\n",
    "\n"
   ]
  },
  {
   "cell_type": "code",
   "execution_count": null,
   "metadata": {},
   "outputs": [],
   "source": []
  }
 ],
 "metadata": {
  "kernelspec": {
   "display_name": "Python 3",
   "language": "python",
   "name": "python3"
  },
  "language_info": {
   "codemirror_mode": {
    "name": "ipython",
    "version": 3
   },
   "file_extension": ".py",
   "mimetype": "text/x-python",
   "name": "python",
   "nbconvert_exporter": "python",
   "pygments_lexer": "ipython3",
   "version": "3.6.5"
  }
 },
 "nbformat": 4,
 "nbformat_minor": 2
}
